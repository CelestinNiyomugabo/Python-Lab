{
 "cells": [
  {
   "cell_type": "markdown",
   "id": "c211e2c2",
   "metadata": {},
   "source": [
    "<link href=\"https://cdn.jsdelivr.net/npm/bootstrap@5.0.2/dist/css/bootstrap.min.css\" rel=\"stylesheet\">\n",
    "<div style=\"\" class=\"bg-success btn btn-success w-100\"><h1>Predicting Formal Credit Uptake Among Rwandan Tea Farmers Using Machine Learning</h1>\n",
    "<hr>\n",
    "Pierre Celestin Niyomugabo - 100883\n",
    "<hr>\n",
    "</div>"
   ]
  },
  {
   "cell_type": "markdown",
   "id": "557536ba",
   "metadata": {},
   "source": [
    "<link href=\"https://cdn.jsdelivr.net/npm/bootstrap@5.0.2/dist/css/bootstrap.min.css\" rel=\"stylesheet\">\n",
    "<div class=\"btn btn-warning w-100 text-left text-start\"><h2>Step 1: Load important packages</h2></div>"
   ]
  },
  {
   "cell_type": "code",
   "execution_count": 393,
   "id": "31c1a0bc",
   "metadata": {},
   "outputs": [],
   "source": [
    "import pandas as pd\n",
    "import numpy as np\n",
    "from scipy.stats import chisquare\n",
    "from sklearn.model_selection import train_test_split\n",
    "from sklearn.preprocessing import LabelEncoder, StandardScaler\n",
    "from sklearn.neural_network import MLPClassifier\n",
    "from sklearn.metrics import confusion_matrix\n",
    "from sklearn.model_selection import cross_val_score\n",
    "from scipy.stats import chi2_contingency\n",
    "from sklearn.linear_model import LogisticRegression\n",
    "from sklearn.ensemble import RandomForestClassifier\n",
    "from sklearn.svm import SVC\n",
    "# from xgboost import XGBClassifier\n",
    "from sklearn.metrics import accuracy_score, precision_score, recall_score, f1_score\n",
    "\n",
    "import matplotlib.pyplot as plt\n",
    "import seaborn as sns\n",
    "import shap\n",
    "import statsmodels.api as sm\n",
    "\n"
   ]
  },
  {
   "cell_type": "markdown",
   "id": "0e96dd76",
   "metadata": {},
   "source": [
    "<link href=\"https://cdn.jsdelivr.net/npm/bootstrap@5.0.2/dist/css/bootstrap.min.css\" rel=\"stylesheet\">\n",
    "<div class=\"btn btn-warning w-100 text-left text-start\"><h2>Step 2: Import the dataset</h2></div>"
   ]
  },
  {
   "cell_type": "code",
   "execution_count": 394,
   "id": "ef2e06c4",
   "metadata": {},
   "outputs": [
    {
     "name": "stdout",
     "output_type": "stream",
     "text": [
      "start             808\n",
      "end               808\n",
      "Enumerator        808\n",
      "cal_enumerator    808\n",
      "note1               0\n",
      "                 ... \n",
      "_status           808\n",
      "_submitted_by     757\n",
      "__version__       808\n",
      "_tags               0\n",
      "_index            808\n",
      "Length: 131, dtype: int64\n"
     ]
    }
   ],
   "source": [
    "data = pd.read_csv('dataset.csv', encoding=\"latin\", low_memory=False)\n",
    "data.head()\n",
    "data.Enumerator.unique()\n",
    "print(data.count())"
   ]
  },
  {
   "cell_type": "markdown",
   "id": "5ce724bf",
   "metadata": {},
   "source": [
    "<link href=\"https://cdn.jsdelivr.net/npm/bootstrap@5.0.2/dist/css/bootstrap.min.css\" rel=\"stylesheet\">\n",
    "<div class=\"btn btn-warning w-100 text-left text-start\"><h2>Step 3: Dataset inspection and data pre-processing</h2></div>"
   ]
  },
  {
   "cell_type": "code",
   "execution_count": 395,
   "id": "58ba8adf",
   "metadata": {},
   "outputs": [
    {
     "name": "stdout",
     "output_type": "stream",
     "text": [
      "Columns: ['start', 'end', 'Enumerator', 'cal_enumerator', 'note1', 'consent', 'interview_date', 'Province', 'cal_province', 'District', 'cal_district', 'Sector', 'farmer_name', 'type', 'cal_type', 'entity_name', 'sex', 'dob', 'dob_year', 'interview_year', 'age', 'age_note', 'education', 'hh_size', 'income1', 'income2', 'tea_area', 'tea_income', 'annual_tea_income', 'formal_credit', 'formal_credit_count', 'lender_institution_type', 'other_lender_institution_type', 'formal_credit_size', 'formal_payback_period', 'formal_interest_rate', 'formal_defaulted', 'formal_defaulted_type', 'formal_defaulted_reason', 'formal_defaulted_reason/1', 'formal_defaulted_reason/2', 'formal_defaulted_reason/3', 'formal_defaulted_reason/4', 'formal_defaulted_reason/5', 'formal_defaulted_reason/99', 'formal_defaulted_reason_other', 'informal_credit', 'informal_credit_count', 'informal_institution_type', 'other_informal_institution_type', 'informal_credit_size', 'informal_payback_period', 'informal_interest_rate', 'informal_defaulted', 'informal_defaulted_type', 'informal_defaulted_reason', 'informal_defaulted_reason/1', 'informal_defaulted_reason/2', 'informal_defaulted_reason/3', 'informal_defaulted_reason/4', 'informal_defaulted_reason/5', 'informal_defaulted_reason/99', 'informal_defaulted_reason_other', 'formal_motivation', 'formal_motivation/1', 'formal_motivation/2', 'formal_motivation/3', 'formal_motivation/4', 'formal_motivation/5', 'formal_motivation/6', 'formal_motivation/7', 'formal_motivation/8', 'formal_motivation/99', 'formal_motivation/9', 'formal_motivation_other', 'informal_motivation', 'informal_motivation/1', 'informal_motivation/2', 'informal_motivation/3', 'informal_motivation/4', 'informal_motivation/5', 'informal_motivation/6', 'informal_motivation/7', 'informal_motivation/8', 'informal_motivation/99', 'informal_motivation/9', 'informal_motivation_other', 'distance_to_credit_facility', 'time_to_credit_facility', 'kmtotime', 'kmtotime_note', 'applied_for_formal', 'collateral_requested', 'collateral_available', 'challenges_to_credit', 'challenges_to_credit/1', 'challenges_to_credit/2', 'challenges_to_credit/3', 'challenges_to_credit/4', 'challenges_to_credit/5', 'challenges_to_credit/6', 'challenges_to_credit/7', 'challenges_to_credit/99', 'other_challenges_to_credit', 'reasons_to_not_apply', 'reasons_to_not_apply/1', 'reasons_to_not_apply/2', 'reasons_to_not_apply/3', 'reasons_to_not_apply/4', 'reasons_to_not_apply/5', 'reasons_to_not_apply/99', 'other_reasons_to_not_apply', 'access_to_training', 'Geolocation', '_Geolocation_latitude', '_Geolocation_longitude', '_Geolocation_altitude', '_Geolocation_precision', 'note2', 'kmtotime1', 'kmtotime2', '_id', '_uuid', '_submission_time', '_validation_status', '_notes', '_status', '_submitted_by', '__version__', '_tags', '_index']\n",
      "Columns to drop: 10 columns\n",
      " ['Enumerator', 'cal_enumerator', 'farmer_name', 'entity_name', '_submitted_by', 'note1', 'age_note', 'kmtotime_note', 'note2', '_notes']\n",
      "Duplicates: 0\n"
     ]
    }
   ],
   "source": [
    "# 1. Drop unnecessary columns\n",
    "print(\"Columns:\", data.columns.tolist())\n",
    "columns_to_trop = ['Enumerator', 'cal_enumerator', 'farmer_name', 'entity_name', '_submitted_by'] # I selected these as variables that include names\n",
    "columns_to_trop.extend([col for col in data.columns if 'note' in col.lower()]) # I also need to drop those columns containing \"notes\"\n",
    "columns_to_trop.extend([col for col in data.columns if 'Geolocation' in col.lower()]) # I also need to drop those columns containing \"Geolocation\" as it's sensitive info\n",
    "print(f\"Columns to drop: {len(columns_to_trop)} columns\\n\", columns_to_trop)\n",
    "data.drop(columns=columns_to_trop, inplace=True, errors='ignore')\n",
    "\n",
    "\n",
    "# 2. Inspect and handle duplicates if any (based on _uuid)\n",
    "print(f\"Duplicates: {data.duplicated(subset=['_uuid']).sum()}\")"
   ]
  },
  {
   "cell_type": "markdown",
   "id": "9f53eb37",
   "metadata": {},
   "source": [
    "## 1. Defining labels for multiple reponses variables\n",
    "1. Reasons for defaulting formal credit"
   ]
  },
  {
   "cell_type": "code",
   "execution_count": 396,
   "id": "f7e02a6e",
   "metadata": {},
   "outputs": [],
   "source": [
    "formal_defaulted_reason = {\n",
    "    'formal_defaulted_reason1': \"Economic disruption\",\n",
    "    'formal_defaulted_reason2': \"Financial loss\",\n",
    "    'formal_defaulted_reason3': \"COVID-19 pandemic\",\n",
    "    'formal_defaulted_reason4': \"High rate of interest\",\n",
    "    'formal_defaulted_reason5': \"Health conditions worsen\",\n",
    "    'formal_defaulted_reason99': \"Other\"\n",
    "}"
   ]
  },
  {
   "cell_type": "markdown",
   "id": "cc9aca38",
   "metadata": {},
   "source": [
    "2. Reasons for defaulting informal credit"
   ]
  },
  {
   "cell_type": "code",
   "execution_count": 397,
   "id": "07419aa2",
   "metadata": {},
   "outputs": [],
   "source": [
    "informal_defaulted_reason = {\n",
    "    'informal_defaulted_reason1': \"Economic disruption\",\n",
    "    'informal_defaulted_reason2': \"Financial loss\",\n",
    "    'informal_defaulted_reason3': \"COVID-19 pandemic\",\n",
    "    'informal_defaulted_reason4': \"High rate of interest\",\n",
    "    'informal_defaulted_reason5': \"Health conditions worsen\",\n",
    "    'informal_defaulted_reason99': \"Other\"\n",
    "}"
   ]
  },
  {
   "cell_type": "markdown",
   "id": "221844ff",
   "metadata": {},
   "source": [
    "3. Preference of formal credit over informal credit"
   ]
  },
  {
   "cell_type": "code",
   "execution_count": 398,
   "id": "f5de8be3",
   "metadata": {},
   "outputs": [],
   "source": [
    "motivation_for_formal_loans = {\n",
    "    'formal_motivation1': \"Affordable interest rate\",\n",
    "    'formal_motivation2': \"High capital amount is granted\",\n",
    "    'formal_motivation3': \"Confidentiality/professionalism\",\n",
    "    'formal_motivation4': \"Transparency\",\n",
    "    'formal_motivation5': \"They help us with project plan\",\n",
    "    'formal_motivation6': \"Granted in short time\",\n",
    "    'formal_motivation7': \"Long payback period granted\",\n",
    "    'formal_motivation8': \"Collateral not needed\",\n",
    "    'formal_motivation9': \"None\",\n",
    "    'formal_motivation99': \"Other\"\n",
    "}"
   ]
  },
  {
   "cell_type": "markdown",
   "id": "998ec30f",
   "metadata": {},
   "source": [
    "4. Preference of informal credit over formal credit"
   ]
  },
  {
   "cell_type": "code",
   "execution_count": 399,
   "id": "799809ec",
   "metadata": {},
   "outputs": [],
   "source": [
    "motivation_for_informal_loans = {\n",
    "    'informal_motivation1': \"Affordable interest rate\",\n",
    "    'informal_motivation2': \"High capital amount is granted\",\n",
    "    'informal_motivation3': \"Confidentiality/professionalism\",\n",
    "    'informal_motivation4': \"Transparency\",\n",
    "    'informal_motivation5': \"They help us with project plan\",\n",
    "    'informal_motivation6': \"Granted in short time\",\n",
    "    'informal_motivation7': \"Long payback period granted\",\n",
    "    'informal_motivation8': \"Collateral not needed\",\n",
    "    'informal_motivation9': \"None\",\n",
    "    'informal_motivation99': \"Other\"\n",
    "}"
   ]
  },
  {
   "cell_type": "markdown",
   "id": "422edc0c",
   "metadata": {},
   "source": [
    "5. Challenges that inhibited the farmer to take credit"
   ]
  },
  {
   "cell_type": "code",
   "execution_count": 400,
   "id": "40bc7591",
   "metadata": {},
   "outputs": [],
   "source": [
    "challenges_to_credit = {\n",
    "    'challenges_to_credit1': \"Lack of required collateral\",\n",
    "    'challenges_to_credit2': \"Your credit score was too low.\",\n",
    "    'challenges_to_credit3': \"Debt-to-income ratio was too high\",\n",
    "    'challenges_to_credit4': \"You tried to borrow too much\",\n",
    "    'challenges_to_credit5': \"Your income was insufficient or unstable\",\n",
    "    'challenges_to_credit6': \"Your loan purpose didn't meet the lender's criteria\",\n",
    "    'challenges_to_credit7': \"Your application was missing information\",\n",
    "    'challenges_to_credit99': \"Other\"\n",
    "}"
   ]
  },
  {
   "cell_type": "markdown",
   "id": "f093ab06",
   "metadata": {},
   "source": [
    "6. Reasons to not apply/request credit"
   ]
  },
  {
   "cell_type": "code",
   "execution_count": 401,
   "id": "fcb5f3f2",
   "metadata": {},
   "outputs": [],
   "source": [
    "reasons_to_not_apply = {\n",
    "    'reasons_to_not_apply1': \"I didn't need credit at all\",\n",
    "    'reasons_to_not_apply2': \"Lack of information about credit/procedures\",\n",
    "    'reasons_to_not_apply3': \"Lack of skills on credit management\",\n",
    "    'reasons_to_not_apply4': \"Lack of collateral\",\n",
    "    'reasons_to_not_apply5': \"Lack of lender\",\n",
    "    'reasons_to_not_apply99': \"Other\"\n",
    "}"
   ]
  },
  {
   "cell_type": "markdown",
   "id": "f46b948d",
   "metadata": {},
   "source": [
    "## 2. Drop irrelevant observations"
   ]
  },
  {
   "cell_type": "code",
   "execution_count": 402,
   "id": "add44023",
   "metadata": {},
   "outputs": [
    {
     "name": "stdout",
     "output_type": "stream",
     "text": [
      "Observations: 622\n"
     ]
    }
   ],
   "source": [
    "data = data[data['consent'] == 1] # keep only those who consent to participte\n",
    "data = data[data['age'] >= 18] # it was decided prior that only those aged 18 and above will be considered for the study\n",
    "data = data[((data['formal_credit'] == 0) | ((data['formal_interest_rate'].astype(float) >= 6.5) & (data['formal_interest_rate'].astype(float) <=36)))] # the rate can not be less than BNR lower limit\n",
    "data = data[data['sex'].isin([1,2])] # I want to keep only distinct sex (male and female)\n",
    "data = data[~((data['hh_size'] > 12) & (data['type'] == 1))]\n",
    "data = data[((data['formal_credit'] == 0) | (data['formal_credit_size'] >=30000))]\n",
    "data = data[((data['informal_credit'] == 0) | (data['informal_credit_size'] >=2000))]\n",
    "data = data[(data['formal_credit'] == 1) | (data['informal_credit'] == 1)]\n",
    "data = data[\n",
    "    ((data['formal_payback_period'] <= 60) | data['formal_payback_period'].isna()) &\n",
    "    ((data['informal_payback_period'] <= 60) | data['informal_payback_period'].isna())\n",
    "]\n",
    "df = data[(data['informal_interest_rate'].isna()) | (data['informal_interest_rate'] <= 120)]\n",
    "\n",
    "print(f\"Observations: {len(data)}\")"
   ]
  },
  {
   "cell_type": "markdown",
   "id": "8a744e79",
   "metadata": {},
   "source": [
    "## 3. Generate a new variable (evertook credit)"
   ]
  },
  {
   "cell_type": "code",
   "execution_count": 403,
   "id": "bc4ce99d",
   "metadata": {},
   "outputs": [],
   "source": [
    "data['credit'] = ((data['formal_credit'] == 1) | (data['informal_credit'] == 1)).astype(int)\n",
    "yesorno = {1: 'Yes', 0: 'No'}\n",
    "data['credit_label'] = data['credit'].map(yesorno)\n",
    "\n",
    "# credit formal = Formal, Informal, Both, None\n",
    "data['credit_source'] = np.select(\n",
    "    [\n",
    "        (data['formal_credit'] == 1) & (data['informal_credit'] == 1),\n",
    "        (data['formal_credit'] == 1) & (data['informal_credit'] == 0),\n",
    "        (data['formal_credit'] == 0) & (data['informal_credit'] == 1),\n",
    "        (data['formal_credit'] == 0) & (data['informal_credit'] == 0)\n",
    "    ],\n",
    "    [\n",
    "        'Both',\n",
    "        'Formal',\n",
    "        'Informal',\n",
    "        'None'\n",
    "    ],\n",
    "    default='Unknown'\n",
    ")\n"
   ]
  },
  {
   "cell_type": "markdown",
   "id": "01248ffe",
   "metadata": {},
   "source": [
    "## 4. Generate categorical variables"
   ]
  },
  {
   "cell_type": "code",
   "execution_count": 404,
   "id": "1bc867ce",
   "metadata": {},
   "outputs": [],
   "source": [
    "# Age category\n",
    "data['age_cat'] = pd.cut(\n",
    "    data['age'],\n",
    "    bins=[17, 50, float('inf')],\n",
    "    labels=[\"18-50\", \"Above 50\"]\n",
    ")\n",
    "\n",
    "# Tea area\n",
    "data['tea_area_cat'] = pd.cut(\n",
    "    data['tea_area'],\n",
    "    bins=[0.0001, 0.5, 1, 1.5, float('inf')],\n",
    "    labels=[\n",
    "        \"Less than 0.5 ha\",\n",
    "        \"0.5 - 1 ha\",\n",
    "        \"1-1.5 ha\",\n",
    "        \"Above 1.5 ha\"\n",
    "    ]\n",
    ")\n",
    "\n",
    "# Formal credit counts\n",
    "data['formal_credit_count_cat'] = pd.cut(\n",
    "    data['formal_credit_count'],\n",
    "    bins=[0, 1, 2, 3, 99],\n",
    "    labels=[\"One\", \"Two\", \"Three\", \"More than 3\"]\n",
    ")\n",
    "\n",
    "# Formal credit size\n",
    "data['formal_credit_size_cat'] = pd.cut(\n",
    "    data['formal_credit_size'],\n",
    "    bins=[0, 200000, 500000, float('inf')],\n",
    "    labels=[\n",
    "        \"Less than 200,000\",\n",
    "        \"200,000-500,000\",\n",
    "        \"Above 500,000\"\n",
    "    ]\n",
    ")\n",
    "\n",
    "# Informal credit size\n",
    "data['informal_credit_size_cat'] = pd.cut(\n",
    "    data['informal_credit_size'],\n",
    "    bins=[-0.01, 50000, 100000, float('inf')],\n",
    "    labels=[\n",
    "        \"Less than 50,000\",\n",
    "        \"50,000-100,000\",\n",
    "        \"Above 100,000\"\n",
    "    ]\n",
    ")\n",
    "\n",
    "# HH size\n",
    "data['hh_size_cat'] = pd.cut(\n",
    "    data['hh_size'],\n",
    "    bins=[0, 3, 99],\n",
    "    labels=[\"1-3\", \"4+\"]\n",
    ")\n",
    "\n",
    "# Informal credit count\n",
    "data['informal_credit_count_cat'] = pd.cut(\n",
    "    data['informal_credit_count'],\n",
    "    bins=[0, 1, 2, 3, 99],\n",
    "    labels=[\"One\", \"Two\", \"Three\", \"More than 3\"]\n",
    ")\n",
    "\n",
    "# Formal credit payback\n",
    "data['formal_payback_period_cat'] = pd.cut(\n",
    "    data['formal_payback_period'],\n",
    "    bins=[0, 12, 24, 36, 99],\n",
    "    labels=[\n",
    "        \"1-12 months\", \"13-24 months\", \"25-36 months\", \"More than 36 months\"\n",
    "    ]\n",
    ")\n",
    "\n",
    "# Informal credit payback\n",
    "data['informal_payback_period_cat'] = pd.cut(\n",
    "    data['informal_payback_period'],\n",
    "    bins=[0, 12, 24, 36, 99],\n",
    "    labels=[\n",
    "        \"1-12 months\", \"13-24 months\", \"25-36 months\", \"More than 36 months\"\n",
    "    ]\n",
    ")\n",
    "\n",
    "# Educated or not\n",
    "data['educated'] = data['education'].apply(\n",
    "    lambda x: \"Not educated\" if x == 1 else \"Educated\"\n",
    ")\n",
    "\n",
    "# Distance to financial institution\n",
    "data['distance_cat'] = pd.cut(\n",
    "    data['distance_to_credit_facility'],\n",
    "    bins=[-0.01, 1, 5, float('inf')],\n",
    "    labels=[\n",
    "        \"Less than 1km\", \"1-5 km\", \"Above 5km\"\n",
    "    ]\n",
    ")"
   ]
  },
  {
   "cell_type": "markdown",
   "id": "7fd4490f",
   "metadata": {},
   "source": [
    "<link href=\"https://cdn.jsdelivr.net/npm/bootstrap@5.0.2/dist/css/bootstrap.min.css\" rel=\"stylesheet\">\n",
    "<div class=\"btn btn-warning w-100 text-left text-start\"><h2>Step 4: Exploratory Data Analysis (EDA)</h2></div>"
   ]
  },
  {
   "cell_type": "markdown",
   "id": "0fc5100c",
   "metadata": {},
   "source": [
    "## 1. Credit source"
   ]
  },
  {
   "cell_type": "code",
   "execution_count": 405,
   "id": "1947bf28",
   "metadata": {},
   "outputs": [
    {
     "data": {
      "text/html": [
       "<div>\n",
       "<style scoped>\n",
       "    .dataframe tbody tr th:only-of-type {\n",
       "        vertical-align: middle;\n",
       "    }\n",
       "\n",
       "    .dataframe tbody tr th {\n",
       "        vertical-align: top;\n",
       "    }\n",
       "\n",
       "    .dataframe thead th {\n",
       "        text-align: right;\n",
       "    }\n",
       "</style>\n",
       "<table border=\"1\" class=\"dataframe\">\n",
       "  <thead>\n",
       "    <tr style=\"text-align: right;\">\n",
       "      <th></th>\n",
       "      <th>credit_source</th>\n",
       "      <th>Count</th>\n",
       "      <th>Percent</th>\n",
       "    </tr>\n",
       "  </thead>\n",
       "  <tbody>\n",
       "    <tr>\n",
       "      <th>0</th>\n",
       "      <td>Informal</td>\n",
       "      <td>314</td>\n",
       "      <td>50.48</td>\n",
       "    </tr>\n",
       "    <tr>\n",
       "      <th>1</th>\n",
       "      <td>Both</td>\n",
       "      <td>167</td>\n",
       "      <td>26.85</td>\n",
       "    </tr>\n",
       "    <tr>\n",
       "      <th>2</th>\n",
       "      <td>Formal</td>\n",
       "      <td>141</td>\n",
       "      <td>22.67</td>\n",
       "    </tr>\n",
       "  </tbody>\n",
       "</table>\n",
       "</div>"
      ],
      "text/plain": [
       "  credit_source  Count  Percent\n",
       "0      Informal    314    50.48\n",
       "1          Both    167    26.85\n",
       "2        Formal    141    22.67"
      ]
     },
     "metadata": {},
     "output_type": "display_data"
    },
    {
     "name": "stdout",
     "output_type": "stream",
     "text": [
      "Chi-Square Test: χ² = 83.95, p-value = 0.0000\n"
     ]
    }
   ],
   "source": [
    "credit_source_counts = data['credit_source'].value_counts(dropna=False)\n",
    "credit_source_percent = data['credit_source'].value_counts(normalize=True, dropna=False) * 100\n",
    "\n",
    "credit_source_table = pd.DataFrame({\n",
    "    'Count': credit_source_counts,\n",
    "    'Percent': credit_source_percent.round(2)\n",
    "}).reset_index().rename(columns={'index': 'Credit Source'})\n",
    "\n",
    "# Chi-Square Goodness-of-Fit test \n",
    "observed = credit_source_counts.values\n",
    "expected = [sum(observed) / len(observed)] * len(observed) \n",
    "\n",
    "chi2_stat, p_value = chisquare(f_obs=observed, f_exp=expected)\n",
    "\n",
    "# Display result\n",
    "display(credit_source_table)\n",
    "print(f\"Chi-Square Test: χ² = {chi2_stat:.2f}, p-value = {p_value:.4f}\")\n"
   ]
  },
  {
   "cell_type": "markdown",
   "id": "e97019c3",
   "metadata": {},
   "source": [
    "## 2. Demographics"
   ]
  },
  {
   "cell_type": "code",
   "execution_count": 406,
   "id": "d88bf6a0",
   "metadata": {},
   "outputs": [
    {
     "data": {
      "text/html": [
       "<div>\n",
       "<style scoped>\n",
       "    .dataframe tbody tr th:only-of-type {\n",
       "        vertical-align: middle;\n",
       "    }\n",
       "\n",
       "    .dataframe tbody tr th {\n",
       "        vertical-align: top;\n",
       "    }\n",
       "\n",
       "    .dataframe thead th {\n",
       "        text-align: right;\n",
       "    }\n",
       "</style>\n",
       "<table border=\"1\" class=\"dataframe\">\n",
       "  <thead>\n",
       "    <tr style=\"text-align: right;\">\n",
       "      <th></th>\n",
       "      <th>Variable/category</th>\n",
       "      <th>Formal n (%)</th>\n",
       "      <th>Informal n (%)</th>\n",
       "      <th>Total n (%)</th>\n",
       "      <th>chi2</th>\n",
       "      <th>p-value</th>\n",
       "    </tr>\n",
       "  </thead>\n",
       "  <tbody>\n",
       "    <tr>\n",
       "      <th>0</th>\n",
       "      <td>1.0</td>\n",
       "      <td>190 (52.3%)</td>\n",
       "      <td>173 (47.7%)</td>\n",
       "      <td>363 (58.4%)</td>\n",
       "      <td></td>\n",
       "      <td></td>\n",
       "    </tr>\n",
       "    <tr>\n",
       "      <th>1</th>\n",
       "      <td>2.0</td>\n",
       "      <td>118 (45.6%)</td>\n",
       "      <td>141 (54.4%)</td>\n",
       "      <td>259 (41.6%)</td>\n",
       "      <td></td>\n",
       "      <td></td>\n",
       "    </tr>\n",
       "    <tr>\n",
       "      <th>2</th>\n",
       "      <td>Total</td>\n",
       "      <td>308 (100%)</td>\n",
       "      <td>314 (100%)</td>\n",
       "      <td>622 (100%)</td>\n",
       "      <td>chi2: 2.5,\\np: 0.113,\\ndf: 1</td>\n",
       "      <td>0.113</td>\n",
       "    </tr>\n",
       "    <tr>\n",
       "      <th>3</th>\n",
       "      <td></td>\n",
       "      <td></td>\n",
       "      <td></td>\n",
       "      <td></td>\n",
       "      <td></td>\n",
       "      <td></td>\n",
       "    </tr>\n",
       "    <tr>\n",
       "      <th>4</th>\n",
       "      <td>Less than 1km</td>\n",
       "      <td>51 (48.1%)</td>\n",
       "      <td>55 (51.9%)</td>\n",
       "      <td>106 (17.0%)</td>\n",
       "      <td></td>\n",
       "      <td></td>\n",
       "    </tr>\n",
       "    <tr>\n",
       "      <th>5</th>\n",
       "      <td>1-5 km</td>\n",
       "      <td>195 (45.8%)</td>\n",
       "      <td>231 (54.2%)</td>\n",
       "      <td>426 (68.5%)</td>\n",
       "      <td></td>\n",
       "      <td></td>\n",
       "    </tr>\n",
       "    <tr>\n",
       "      <th>6</th>\n",
       "      <td>Above 5km</td>\n",
       "      <td>62 (68.9%)</td>\n",
       "      <td>28 (31.1%)</td>\n",
       "      <td>90 (14.5%)</td>\n",
       "      <td></td>\n",
       "      <td></td>\n",
       "    </tr>\n",
       "    <tr>\n",
       "      <th>7</th>\n",
       "      <td>Total</td>\n",
       "      <td>308 (100%)</td>\n",
       "      <td>314 (100%)</td>\n",
       "      <td>622 (100%)</td>\n",
       "      <td>chi2: 16.0,\\np: 0.000,\\ndf: 2</td>\n",
       "      <td>0.000</td>\n",
       "    </tr>\n",
       "    <tr>\n",
       "      <th>8</th>\n",
       "      <td></td>\n",
       "      <td></td>\n",
       "      <td></td>\n",
       "      <td></td>\n",
       "      <td></td>\n",
       "      <td></td>\n",
       "    </tr>\n",
       "    <tr>\n",
       "      <th>9</th>\n",
       "      <td>Educated</td>\n",
       "      <td>235 (50.3%)</td>\n",
       "      <td>232 (49.7%)</td>\n",
       "      <td>467 (75.1%)</td>\n",
       "      <td></td>\n",
       "      <td></td>\n",
       "    </tr>\n",
       "  </tbody>\n",
       "</table>\n",
       "</div>"
      ],
      "text/plain": [
       "  Variable/category Formal n (%) Informal n (%)  Total n (%)  \\\n",
       "0               1.0  190 (52.3%)    173 (47.7%)  363 (58.4%)   \n",
       "1               2.0  118 (45.6%)    141 (54.4%)  259 (41.6%)   \n",
       "2             Total   308 (100%)     314 (100%)   622 (100%)   \n",
       "3                                                              \n",
       "4     Less than 1km   51 (48.1%)     55 (51.9%)  106 (17.0%)   \n",
       "5            1-5 km  195 (45.8%)    231 (54.2%)  426 (68.5%)   \n",
       "6         Above 5km   62 (68.9%)     28 (31.1%)   90 (14.5%)   \n",
       "7             Total   308 (100%)     314 (100%)   622 (100%)   \n",
       "8                                                              \n",
       "9          Educated  235 (50.3%)    232 (49.7%)  467 (75.1%)   \n",
       "\n",
       "                            chi2 p-value  \n",
       "0                                         \n",
       "1                                         \n",
       "2   chi2: 2.5,\\np: 0.113,\\ndf: 1   0.113  \n",
       "3                                         \n",
       "4                                         \n",
       "5                                         \n",
       "6                                         \n",
       "7  chi2: 16.0,\\np: 0.000,\\ndf: 2   0.000  \n",
       "8                                         \n",
       "9                                         "
      ]
     },
     "execution_count": 406,
     "metadata": {},
     "output_type": "execute_result"
    }
   ],
   "source": [
    "import pandas as pd\n",
    "from scipy.stats import chi2_contingency\n",
    "\n",
    "def format_demographic_table(df, variables, target):\n",
    "    table_rows = []\n",
    "\n",
    "    for var in variables:\n",
    "        # Generate cross-tab: 1 = Formal, 0 = Informal\n",
    "        ctab = pd.crosstab(df[var], df[target])\n",
    "        ctab_perc = ctab.div(ctab.sum(axis=1), axis=0).fillna(0) * 100\n",
    "\n",
    "        # Chi-square test\n",
    "        chi2, p, dof, expected = chi2_contingency(ctab)\n",
    "\n",
    "        for level in ctab.index:\n",
    "            formal = 1\n",
    "            informal = 0\n",
    "\n",
    "            # Add missing columns if needed\n",
    "            for col in [formal, informal]:\n",
    "                if col not in ctab.columns:\n",
    "                    ctab[col] = 0\n",
    "                    ctab_perc[col] = 0.0\n",
    "\n",
    "            # Reorder to avoid KeyError\n",
    "            ctab = ctab[[formal, informal]]\n",
    "            ctab_perc = ctab_perc[[formal, informal]]\n",
    "\n",
    "            row = {\n",
    "                'Variable/category': f\"  {level}\",\n",
    "                'Formal n (%)': f\"{ctab.loc[level].get(formal, 0)} ({ctab_perc.loc[level].get(formal, 0):.1f}%)\",\n",
    "                'Informal n (%)': f\"{ctab.loc[level].get(informal, 0)} ({ctab_perc.loc[level].get(informal, 0):.1f}%)\",\n",
    "                'Total n (%)': f\"{ctab.loc[level].sum()} ({(ctab.loc[level].sum() / len(df) * 100):.1f}%)\",\n",
    "                'chi2': '',\n",
    "                'p-value': '',\n",
    "            }\n",
    "            table_rows.append(row)\n",
    "\n",
    "        # Add total row\n",
    "        total_counts = ctab.sum()\n",
    "        total_row = {\n",
    "            'Variable/category': '  Total',\n",
    "            'Formal n (%)': f\"{total_counts.get(1, 0)} (100%)\",\n",
    "            'Informal n (%)': f\"{total_counts.get(0, 0)} (100%)\",\n",
    "            'Total n (%)': f\"{total_counts.sum()} (100%)\",\n",
    "            'chi2': f\"chi2: {chi2:.1f},\\np: {p:.3f},\\ndf: {dof}\",\n",
    "            'p-value': f\"{p:.3f}\"\n",
    "        }\n",
    "        table_rows.append(total_row)\n",
    "\n",
    "        # Add spacing row\n",
    "        table_rows.append({col: '' for col in total_row})\n",
    "\n",
    "    return pd.DataFrame(table_rows)\n",
    "\n",
    "\n",
    "# Usage:\n",
    "\n",
    "variables = ['sex', 'distance_cat', 'educated', 'tea_area_cat', 'age_cat',\n",
    "    'formal_credit_size_cat', 'informal_credit_size_cat', 'hh_size_cat',\n",
    "    'formal_credit_count_cat', 'informal_credit_count_cat',\n",
    "    'formal_payback_period_cat', 'informal_payback_period_cat', 'cal_district'\n",
    "]\n",
    "\n",
    "\n",
    "demographics_table = format_demographic_table(data, variables, 'formal_credit')\n",
    "demographics_table.to_csv('demographics_table.csv', index=False)\n",
    "demographics_table.head(10)\n"
   ]
  },
  {
   "cell_type": "markdown",
   "id": "a271b98a",
   "metadata": {},
   "source": [
    "<link href=\"https://cdn.jsdelivr.net/npm/bootstrap@5.0.2/dist/css/bootstrap.min.css\" rel=\"stylesheet\">\n",
    "<div class=\"btn btn-warning w-100 text-left text-start\"><h2>Step 5: Modelling</h2></div>"
   ]
  },
  {
   "cell_type": "markdown",
   "id": "484d62e0",
   "metadata": {},
   "source": [
    "## 1. Feature selection"
   ]
  },
  {
   "cell_type": "code",
   "execution_count": 407,
   "id": "35fa3cac",
   "metadata": {},
   "outputs": [],
   "source": [
    "selected_features = [\n",
    "    'type', 'education', 'age', 'tea_area',\n",
    "    'annual_tea_income', 'formal_payback_period',\n",
    "    'formal_credit_size', 'collateral_requested',\n",
    "    'access_to_training', 'hh_size'\n",
    "]\n",
    "\n",
    "\n",
    "available_features = [feat for feat in selected_features if feat in data.columns]\n",
    "df_model = data[available_features + ['formal_credit']].dropna(subset=['formal_credit'])"
   ]
  },
  {
   "cell_type": "markdown",
   "id": "00b2f32d",
   "metadata": {},
   "source": [
    "## 2. Handle missing values"
   ]
  },
  {
   "cell_type": "code",
   "execution_count": 408,
   "id": "432ccc49",
   "metadata": {},
   "outputs": [],
   "source": [
    "for col in df_model.columns:\n",
    "    if df_model[col].dtype in [np.float64, np.int64]:\n",
    "        df_model[col] = df_model[col].fillna(df_model[col].median())\n",
    "    else:\n",
    "        df_model[col].fillna(df_model[col].mode()[0], inplace=True)"
   ]
  },
  {
   "cell_type": "markdown",
   "id": "24f6e55c",
   "metadata": {},
   "source": [
    "## 3. Encode categorical variables"
   ]
  },
  {
   "cell_type": "code",
   "execution_count": 409,
   "id": "daa3ef54",
   "metadata": {},
   "outputs": [],
   "source": [
    "label_encoders = {}\n",
    "for col in df_model.select_dtypes(include=['object']).columns:\n",
    "    le = LabelEncoder()\n",
    "    df_model[col] = le.fit_transform(df_model[col])\n",
    "    label_encoders[col] = le"
   ]
  },
  {
   "cell_type": "markdown",
   "id": "9ef7be8c",
   "metadata": {},
   "source": [
    "## 4. Prepare X and y"
   ]
  },
  {
   "cell_type": "code",
   "execution_count": 410,
   "id": "09a79ca9",
   "metadata": {},
   "outputs": [],
   "source": [
    "X = df_model.drop(columns=['formal_credit'])\n",
    "y = df_model['formal_credit']\n",
    "feature_names = X.columns.tolist() \n",
    "\n",
    "# Scale features\n",
    "scaler = StandardScaler()\n",
    "X_scaled = scaler.fit_transform(X)"
   ]
  },
  {
   "cell_type": "markdown",
   "id": "0aa56861",
   "metadata": {},
   "source": [
    "## 5. Train-test split"
   ]
  },
  {
   "cell_type": "code",
   "execution_count": 411,
   "id": "decdffc1",
   "metadata": {},
   "outputs": [
    {
     "data": {
      "text/plain": [
       "((497, 10),\n",
       " (125, 10),\n",
       " formal_credit\n",
       " 0    249\n",
       " 1    248\n",
       " Name: count, dtype: int64,\n",
       " formal_credit\n",
       " 0    65\n",
       " 1    60\n",
       " Name: count, dtype: int64)"
      ]
     },
     "execution_count": 411,
     "metadata": {},
     "output_type": "execute_result"
    }
   ],
   "source": [
    "X_train, X_test, y_train, y_test = train_test_split(X_scaled, y, test_size=0.2, random_state=42)\n",
    "\n",
    "X_train.shape, X_test.shape, y_train.value_counts(), y_test.value_counts()"
   ]
  },
  {
   "cell_type": "markdown",
   "id": "09736c7a",
   "metadata": {},
   "source": [
    "## 6. Modelling"
   ]
  },
  {
   "cell_type": "code",
   "execution_count": 412,
   "id": "45f0d32d",
   "metadata": {},
   "outputs": [],
   "source": [
    "models = {\n",
    "    \"Logistic Regression\": LogisticRegression(max_iter=1000),\n",
    "    \"Random Forest\": RandomForestClassifier(n_estimators=100, random_state=42),\n",
    "    \"Support Vector Machine\": SVC(kernel='rbf', probability=True),\n",
    "    # \"XGBoost\": XGBClassifier(use_label_encoder=False, eval_metric='logloss', random_state=42)\n",
    "    \"Neural Network\":  MLPClassifier(hidden_layer_sizes=(10,), activation='relu', solver='adam', max_iter=1000, random_state=42)\n",
    "}\n",
    "\n",
    "\n",
    "# Store results\n",
    "results = []\n",
    "\n",
    "# Train and evaluate each model\n",
    "for name, model in models.items():\n",
    "    model.fit(X_train, y_train)\n",
    "    y_pred = model.predict(X_test)\n",
    "\n",
    "    acc = accuracy_score(y_test, y_pred)\n",
    "    prec = precision_score(y_test, y_pred)\n",
    "    rec = recall_score(y_test, y_pred)\n",
    "    f1 = f1_score(y_test, y_pred)\n",
    "\n",
    "    results.append({\n",
    "        \"Model\": name,\n",
    "        \"Accuracy\": round(acc, 3),\n",
    "        \"Precision\": round(prec, 3),\n",
    "        \"Recall\": round(rec, 3),\n",
    "        \"F1 Score\": round(f1, 3)\n",
    "    })\n",
    "\n",
    "# Convert to DataFrame for display\n",
    "results= pd.DataFrame(results)"
   ]
  },
  {
   "cell_type": "code",
   "execution_count": 413,
   "id": "b8da4094",
   "metadata": {},
   "outputs": [
    {
     "data": {
      "text/html": [
       "<div>\n",
       "<style scoped>\n",
       "    .dataframe tbody tr th:only-of-type {\n",
       "        vertical-align: middle;\n",
       "    }\n",
       "\n",
       "    .dataframe tbody tr th {\n",
       "        vertical-align: top;\n",
       "    }\n",
       "\n",
       "    .dataframe thead th {\n",
       "        text-align: right;\n",
       "    }\n",
       "</style>\n",
       "<table border=\"1\" class=\"dataframe\">\n",
       "  <thead>\n",
       "    <tr style=\"text-align: right;\">\n",
       "      <th></th>\n",
       "      <th>Feature</th>\n",
       "      <th>Coefficient</th>\n",
       "      <th>P-value</th>\n",
       "    </tr>\n",
       "  </thead>\n",
       "  <tbody>\n",
       "    <tr>\n",
       "      <th>7</th>\n",
       "      <td>x8</td>\n",
       "      <td>1.607935</td>\n",
       "      <td>0.286533</td>\n",
       "    </tr>\n",
       "    <tr>\n",
       "      <th>6</th>\n",
       "      <td>x7</td>\n",
       "      <td>0.864142</td>\n",
       "      <td>0.000181</td>\n",
       "    </tr>\n",
       "    <tr>\n",
       "      <th>8</th>\n",
       "      <td>x9</td>\n",
       "      <td>0.473984</td>\n",
       "      <td>0.000038</td>\n",
       "    </tr>\n",
       "    <tr>\n",
       "      <th>4</th>\n",
       "      <td>x5</td>\n",
       "      <td>0.305329</td>\n",
       "      <td>0.006923</td>\n",
       "    </tr>\n",
       "    <tr>\n",
       "      <th>2</th>\n",
       "      <td>x3</td>\n",
       "      <td>0.294991</td>\n",
       "      <td>0.006508</td>\n",
       "    </tr>\n",
       "    <tr>\n",
       "      <th>3</th>\n",
       "      <td>x4</td>\n",
       "      <td>0.184645</td>\n",
       "      <td>0.098920</td>\n",
       "    </tr>\n",
       "    <tr>\n",
       "      <th>9</th>\n",
       "      <td>x10</td>\n",
       "      <td>0.160863</td>\n",
       "      <td>0.111777</td>\n",
       "    </tr>\n",
       "    <tr>\n",
       "      <th>1</th>\n",
       "      <td>x2</td>\n",
       "      <td>0.089822</td>\n",
       "      <td>0.447537</td>\n",
       "    </tr>\n",
       "    <tr>\n",
       "      <th>0</th>\n",
       "      <td>x1</td>\n",
       "      <td>0.086525</td>\n",
       "      <td>0.401510</td>\n",
       "    </tr>\n",
       "    <tr>\n",
       "      <th>5</th>\n",
       "      <td>x6</td>\n",
       "      <td>-0.191723</td>\n",
       "      <td>0.144312</td>\n",
       "    </tr>\n",
       "  </tbody>\n",
       "</table>\n",
       "</div>"
      ],
      "text/plain": [
       "  Feature  Coefficient   P-value\n",
       "7      x8     1.607935  0.286533\n",
       "6      x7     0.864142  0.000181\n",
       "8      x9     0.473984  0.000038\n",
       "4      x5     0.305329  0.006923\n",
       "2      x3     0.294991  0.006508\n",
       "3      x4     0.184645  0.098920\n",
       "9     x10     0.160863  0.111777\n",
       "1      x2     0.089822  0.447537\n",
       "0      x1     0.086525  0.401510\n",
       "5      x6    -0.191723  0.144312"
      ]
     },
     "execution_count": 413,
     "metadata": {},
     "output_type": "execute_result"
    }
   ],
   "source": [
    "# Regression\n",
    "\n",
    "# Coefficients from logistic regression\n",
    "X_train_df = pd.DataFrame(X_train, columns=feature_names)\n",
    "\n",
    "# Add constant (intercept term)\n",
    "X_train_df = sm.add_constant(X_train_df)\n",
    "\n",
    "# Fit logistic regression\n",
    "logit_model = sm.Logit(y_train, X_train)\n",
    "result = logit_model.fit(disp=False)\n",
    "\n",
    "# Extract coefficients and p-values\n",
    "coeff_df = pd.DataFrame({\n",
    "    \"Feature\": result.params.index,\n",
    "    \"Coefficient\": result.params.values,\n",
    "    \"P-value\": result.pvalues.values\n",
    "}).sort_values(by=\"Coefficient\", ascending=False)\n",
    "\n",
    "\n",
    "coeff_df"
   ]
  },
  {
   "cell_type": "code",
   "execution_count": 414,
   "id": "d5519bcb",
   "metadata": {},
   "outputs": [
    {
     "data": {
      "text/html": [
       "<div>\n",
       "<style scoped>\n",
       "    .dataframe tbody tr th:only-of-type {\n",
       "        vertical-align: middle;\n",
       "    }\n",
       "\n",
       "    .dataframe tbody tr th {\n",
       "        vertical-align: top;\n",
       "    }\n",
       "\n",
       "    .dataframe thead th {\n",
       "        text-align: right;\n",
       "    }\n",
       "</style>\n",
       "<table border=\"1\" class=\"dataframe\">\n",
       "  <thead>\n",
       "    <tr style=\"text-align: right;\">\n",
       "      <th></th>\n",
       "      <th>Feature</th>\n",
       "      <th>Importance</th>\n",
       "    </tr>\n",
       "  </thead>\n",
       "  <tbody>\n",
       "    <tr>\n",
       "      <th>6</th>\n",
       "      <td>formal_credit_size</td>\n",
       "      <td>0.500032</td>\n",
       "    </tr>\n",
       "    <tr>\n",
       "      <th>5</th>\n",
       "      <td>formal_payback_period</td>\n",
       "      <td>0.359173</td>\n",
       "    </tr>\n",
       "    <tr>\n",
       "      <th>3</th>\n",
       "      <td>tea_area</td>\n",
       "      <td>0.054376</td>\n",
       "    </tr>\n",
       "    <tr>\n",
       "      <th>2</th>\n",
       "      <td>age</td>\n",
       "      <td>0.026946</td>\n",
       "    </tr>\n",
       "    <tr>\n",
       "      <th>4</th>\n",
       "      <td>annual_tea_income</td>\n",
       "      <td>0.019551</td>\n",
       "    </tr>\n",
       "    <tr>\n",
       "      <th>8</th>\n",
       "      <td>access_to_training</td>\n",
       "      <td>0.015711</td>\n",
       "    </tr>\n",
       "    <tr>\n",
       "      <th>9</th>\n",
       "      <td>hh_size</td>\n",
       "      <td>0.015260</td>\n",
       "    </tr>\n",
       "    <tr>\n",
       "      <th>1</th>\n",
       "      <td>education</td>\n",
       "      <td>0.008126</td>\n",
       "    </tr>\n",
       "    <tr>\n",
       "      <th>0</th>\n",
       "      <td>type</td>\n",
       "      <td>0.000680</td>\n",
       "    </tr>\n",
       "    <tr>\n",
       "      <th>7</th>\n",
       "      <td>collateral_requested</td>\n",
       "      <td>0.000145</td>\n",
       "    </tr>\n",
       "  </tbody>\n",
       "</table>\n",
       "</div>"
      ],
      "text/plain": [
       "                 Feature  Importance\n",
       "6     formal_credit_size    0.500032\n",
       "5  formal_payback_period    0.359173\n",
       "3               tea_area    0.054376\n",
       "2                    age    0.026946\n",
       "4      annual_tea_income    0.019551\n",
       "8     access_to_training    0.015711\n",
       "9                hh_size    0.015260\n",
       "1              education    0.008126\n",
       "0                   type    0.000680\n",
       "7   collateral_requested    0.000145"
      ]
     },
     "execution_count": 414,
     "metadata": {},
     "output_type": "execute_result"
    }
   ],
   "source": [
    "importances = models[\"Random Forest\"].feature_importances_\n",
    "feature_importance_df = pd.DataFrame({\n",
    "    \"Feature\": feature_names,\n",
    "    \"Importance\": importances\n",
    "}).sort_values(by=\"Importance\", ascending=False)\n",
    "feature_importance_df"
   ]
  },
  {
   "cell_type": "markdown",
   "id": "648af01e",
   "metadata": {},
   "source": [
    "## 7. Model Results"
   ]
  },
  {
   "cell_type": "code",
   "execution_count": 415,
   "id": "9c4339c6",
   "metadata": {},
   "outputs": [
    {
     "data": {
      "text/html": [
       "<div>\n",
       "<style scoped>\n",
       "    .dataframe tbody tr th:only-of-type {\n",
       "        vertical-align: middle;\n",
       "    }\n",
       "\n",
       "    .dataframe tbody tr th {\n",
       "        vertical-align: top;\n",
       "    }\n",
       "\n",
       "    .dataframe thead th {\n",
       "        text-align: right;\n",
       "    }\n",
       "</style>\n",
       "<table border=\"1\" class=\"dataframe\">\n",
       "  <thead>\n",
       "    <tr style=\"text-align: right;\">\n",
       "      <th></th>\n",
       "      <th>Model</th>\n",
       "      <th>Accuracy</th>\n",
       "      <th>Precision</th>\n",
       "      <th>Recall</th>\n",
       "      <th>F1 Score</th>\n",
       "    </tr>\n",
       "  </thead>\n",
       "  <tbody>\n",
       "    <tr>\n",
       "      <th>0</th>\n",
       "      <td>Logistic Regression</td>\n",
       "      <td>0.672</td>\n",
       "      <td>0.686</td>\n",
       "      <td>0.583</td>\n",
       "      <td>0.631</td>\n",
       "    </tr>\n",
       "    <tr>\n",
       "      <th>1</th>\n",
       "      <td>Random Forest</td>\n",
       "      <td>0.992</td>\n",
       "      <td>1.000</td>\n",
       "      <td>0.983</td>\n",
       "      <td>0.992</td>\n",
       "    </tr>\n",
       "    <tr>\n",
       "      <th>2</th>\n",
       "      <td>Support Vector Machine</td>\n",
       "      <td>0.800</td>\n",
       "      <td>0.818</td>\n",
       "      <td>0.750</td>\n",
       "      <td>0.783</td>\n",
       "    </tr>\n",
       "    <tr>\n",
       "      <th>3</th>\n",
       "      <td>Neural Network</td>\n",
       "      <td>0.976</td>\n",
       "      <td>1.000</td>\n",
       "      <td>0.950</td>\n",
       "      <td>0.974</td>\n",
       "    </tr>\n",
       "  </tbody>\n",
       "</table>\n",
       "</div>"
      ],
      "text/plain": [
       "                    Model  Accuracy  Precision  Recall  F1 Score\n",
       "0     Logistic Regression     0.672      0.686   0.583     0.631\n",
       "1           Random Forest     0.992      1.000   0.983     0.992\n",
       "2  Support Vector Machine     0.800      0.818   0.750     0.783\n",
       "3          Neural Network     0.976      1.000   0.950     0.974"
      ]
     },
     "execution_count": 415,
     "metadata": {},
     "output_type": "execute_result"
    }
   ],
   "source": [
    "# Print model results\n",
    "results"
   ]
  },
  {
   "cell_type": "markdown",
   "id": "623f9e71",
   "metadata": {},
   "source": [
    "## 8. Confusion Matrix"
   ]
  },
  {
   "cell_type": "code",
   "execution_count": 416,
   "id": "989697c9",
   "metadata": {},
   "outputs": [
    {
     "data": {
      "text/plain": [
       "{'Logistic Regression': array([[49, 16],\n",
       "        [25, 35]]),\n",
       " 'Random Forest': array([[65,  0],\n",
       "        [ 1, 59]]),\n",
       " 'Support Vector Machine': array([[55, 10],\n",
       "        [15, 45]]),\n",
       " 'Neural Network': array([[65,  0],\n",
       "        [ 3, 57]])}"
      ]
     },
     "execution_count": 416,
     "metadata": {},
     "output_type": "execute_result"
    }
   ],
   "source": [
    "# Confusion matrices\n",
    "conf_matrices = {}\n",
    "\n",
    "for name, model in models.items():\n",
    "    model.fit(X_train, y_train)\n",
    "    y_pred = model.predict(X_test)\n",
    "    cm = confusion_matrix(y_test, y_pred)\n",
    "    conf_matrices[name] = cm\n",
    "\n",
    "conf_matrices"
   ]
  },
  {
   "cell_type": "code",
   "execution_count": 417,
   "id": "84d715cc",
   "metadata": {},
   "outputs": [
    {
     "data": {
      "image/png": "[encoded data removed]",
      "text/plain": [
       "<Figure size 1400x1200 with 4 Axes>"
      ]
     },
     "metadata": {},
     "output_type": "display_data"
    }
   ],
   "source": [
    "# Plot confusion matrices\n",
    "def plot_conf_matrix(cm, title, ax):\n",
    "    sns.heatmap(cm, annot=True, fmt='d', cmap='Blues', cbar=False,\n",
    "                xticklabels=[\"Pred: No\", \"Pred: Yes\"],\n",
    "                yticklabels=[\"Actual: No\", \"Actual: Yes\"],\n",
    "                ax=ax)\n",
    "    ax.set_title(title)\n",
    "    ax.set_xlabel(\"Predicted\")\n",
    "    ax.set_ylabel(\"Actual\")\n",
    "\n",
    "fig, axes = plt.subplots(2, 2, figsize=(14, 12), facecolor='white')\n",
    "\n",
    "model_names = list(conf_matrices.keys())\n",
    "\n",
    "for i, ax in enumerate(axes.flat):\n",
    "    plot_conf_matrix(conf_matrices[model_names[i]], model_names[i], ax)\n",
    "\n",
    "# Add a white border line between top and bottom rows\n",
    "for ax in axes[0]:\n",
    "    ax.spines['bottom'].set_linewidth(3)\n",
    "    ax.spines['bottom'].set_color(\"white\")\n",
    "for ax in axes[1]:\n",
    "    ax.spines['top'].set_linewidth(3)\n",
    "    ax.spines['top'].set_color(\"white\")\n",
    "\n",
    "plt.tight_layout(pad=5.0)\n",
    "# plt.show()\n",
    "plt.savefig('confusion_matrices.png', bbox_inches='tight', dpi=300)"
   ]
  },
  {
   "cell_type": "code",
   "execution_count": null,
   "id": "a6436840",
   "metadata": {},
   "outputs": [],
   "source": []
  }
 ],
 "metadata": {
  "kernelspec": {
   "display_name": "Python 3",
   "language": "python",
   "name": "python3"
  },
  "language_info": {
   "codemirror_mode": {
    "name": "ipython",
    "version": 3
   },
   "file_extension": ".py",
   "mimetype": "text/x-python",
   "name": "python",
   "nbconvert_exporter": "python",
   "pygments_lexer": "ipython3",
   "version": "3.12.0"
  }
 },
 "nbformat": 4,
 "nbformat_minor": 5
}
