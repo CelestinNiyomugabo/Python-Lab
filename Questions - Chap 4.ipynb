{
 "cells": [
  {
   "cell_type": "code",
   "execution_count": 1,
   "id": "a6eb2ddb",
   "metadata": {},
   "outputs": [
    {
     "name": "stdout",
     "output_type": "stream",
     "text": [
      "Fraction of observations used for prediction (p=1): 0.10\n"
     ]
    }
   ],
   "source": [
    "# Part (a) - One dimensional case (p = 1)\n",
    "# ---------------------------------------\n",
    "# Let's assume we have a test observation at X = 0.6\n",
    "# We want to use observations within 10% of the range of X (which is [0, 1])\n",
    "# That means within 0.05 units on either side → range = [0.55, 0.65]\n",
    "\n",
    "# Since data is uniform over [0, 1], the fraction is just the length of this interval\n",
    "range_start = 0.6 - 0.05\n",
    "range_end = 0.6 + 0.05\n",
    "interval_length = range_end - range_start\n",
    "\n",
    "# This represents the fraction of data used\n",
    "fraction_p1 = interval_length\n",
    "print(f\"Fraction of observations used for prediction (p=1): {fraction_p1:.2f}\")\n"
   ]
  },
  {
   "cell_type": "code",
   "execution_count": 2,
   "id": "e657011a",
   "metadata": {},
   "outputs": [
    {
     "name": "stdout",
     "output_type": "stream",
     "text": [
      "Fraction of observations used for prediction (p=2): 0.0100\n"
     ]
    }
   ],
   "source": [
    "# Part (b) - Two-dimensional case (p = 2)\n",
    "# ---------------------------------------\n",
    "# Width of range for each variable = 0.1 (10% of the total range from 0 to 1)\n",
    "\n",
    "x1_range = 0.65 - 0.55  # = 0.1\n",
    "x2_range = 0.4 - 0.3    # = 0.1\n",
    "\n",
    "# Area of 2D box = x1_range * x2_range\n",
    "fraction_p2 = x1_range * x2_range\n",
    "print(f\"Fraction of observations used for prediction (p=2): {fraction_p2:.4f}\")\n"
   ]
  },
  {
   "cell_type": "code",
   "execution_count": 5,
   "id": "6e54b5ec",
   "metadata": {},
   "outputs": [
    {
     "name": "stdout",
     "output_type": "stream",
     "text": [
      "Fraction of observations used for prediction (p=100): 1.00e-100\n"
     ]
    }
   ],
   "source": [
    "# Part (c) - High-dimensional case (p = 100)\n",
    "# ------------------------------------------\n",
    "# We take 10% of the range in each of 100 features → total volume = 0.1 ** 100\n",
    "\n",
    "p = 100\n",
    "fraction_p100 = 0.1 ** p\n",
    "print(f\"Fraction of observations used for prediction (p=100): {fraction_p100:.2e}\")\n"
   ]
  },
  {
   "cell_type": "code",
   "execution_count": 8,
   "id": "b97bf51f",
   "metadata": {},
   "outputs": [
    {
     "data": {
      "text/markdown": [
       "\n",
       "### (d) Curse of Dimensionality Interpretation\n",
       "\n",
       "- In 1D, 10% of the data is used.\n",
       "- In 2D, this drops to 1%.\n",
       "- In 100D, it's about $10^{-100}$, essentially **zero**.\n",
       "  \n",
       "This demonstrates the **curse of dimensionality**:\n",
       "- In high-dimensional spaces, data becomes **sparse**\n",
       "- Local neighborhoods contain **fewer and fewer** points\n",
       "- Algorithms like KNN struggle because they rely on having nearby neighbors\n",
       "- To find neighbors, we must use **almost the entire feature space**, which defeats the purpose of \"local\" methods\n"
      ],
      "text/plain": [
       "<IPython.core.display.Markdown object>"
      ]
     },
     "execution_count": 8,
     "metadata": {},
     "output_type": "execute_result"
    }
   ],
   "source": [
    "from IPython.display import Markdown\n",
    "\n",
    "Markdown(\"\"\"\n",
    "### (d) Curse of Dimensionality Interpretation\n",
    "\n",
    "- In 1D, 10% of the data is used.\n",
    "- In 2D, this drops to 1%.\n",
    "- In 100D, it's about $10^{-100}$, essentially **zero**.\n",
    "  \n",
    "This demonstrates the **curse of dimensionality**:\n",
    "- In high-dimensional spaces, data becomes **sparse**\n",
    "- Local neighborhoods contain **fewer and fewer** points\n",
    "- Algorithms like KNN struggle because they rely on having nearby neighbors\n",
    "- To find neighbors, we must use **almost the entire feature space**, which defeats the purpose of \"local\" methods\n",
    "\"\"\")\n"
   ]
  },
  {
   "cell_type": "code",
   "execution_count": 9,
   "id": "dc50e1bb",
   "metadata": {},
   "outputs": [
    {
     "name": "stdout",
     "output_type": "stream",
     "text": [
      "For p = 1, side length = (0.1)^(1/1) = 0.1000\n",
      "For p = 2, side length = (0.1)^(1/2) = 0.3162\n",
      "For p = 100, side length = (0.1)^(1/100) = 0.9772\n"
     ]
    }
   ],
   "source": [
    "# Part (e) - Side length of hypercube needed to capture 10% of data\n",
    "# -----------------------------------------------------------------\n",
    "\n",
    "# Key Concept:\n",
    "# In a p-dimensional space, the volume of a hypercube is:\n",
    "#     Volume = side_length^p\n",
    "# We want to find the side length such that:\n",
    "#     side_length^p = 0.1\n",
    "# Solving for side_length gives:\n",
    "#     side_length = (0.1)^(1/p)\n",
    "\n",
    "# Target volume (fraction of total data)\n",
    "volume_fraction = 0.1\n",
    "\n",
    "# Dimensions to test\n",
    "dimensions = [1, 2, 100]\n",
    "\n",
    "# Calculate side length for each dimension\n",
    "for p in dimensions:\n",
    "    side_length = volume_fraction ** (1/p)\n",
    "    print(f\"For p = {p}, side length = (0.1)^(1/{p}) = {side_length:.4f}\")\n"
   ]
  },
  {
   "cell_type": "markdown",
   "id": "7932ab54",
   "metadata": {},
   "source": [
    "# Question 9"
   ]
  },
  {
   "cell_type": "code",
   "execution_count": 11,
   "id": "34d1bb30",
   "metadata": {},
   "outputs": [
    {
     "name": "stdout",
     "output_type": "stream",
     "text": [
      "(a) Given odds = 0.37 → Probability of default = 0.2701 (27.01%)\n"
     ]
    }
   ],
   "source": [
    "# Part (a) - Given odds, calculate probability\n",
    "# --------------------------------------------\n",
    "# Formula used:\n",
    "#     P = odds / (1 + odds)\n",
    "# Where:\n",
    "#     - odds = 0.37\n",
    "#     - P is the probability of default\n",
    "\n",
    "odds = 0.37\n",
    "P = odds / (1 + odds)\n",
    "\n",
    "print(f\"(a) Given odds = 0.37 → Probability of default = {P:.4f} ({P * 100:.2f}%)\")\n"
   ]
  },
  {
   "cell_type": "code",
   "execution_count": 12,
   "id": "2741a3eb",
   "metadata": {},
   "outputs": [
    {
     "name": "stdout",
     "output_type": "stream",
     "text": [
      "(b) Given probability = 0.16 → Odds of default = 0.1905\n"
     ]
    }
   ],
   "source": [
    "# Part (b) - Given probability, calculate odds\n",
    "# --------------------------------------------\n",
    "# Formula used:\n",
    "#     odds = P / (1 - P)\n",
    "# Where:\n",
    "#     - P = 0.16 (i.e., 16% chance of default)\n",
    "\n",
    "P = 0.16\n",
    "odds = P / (1 - P)\n",
    "\n",
    "print(f\"(b) Given probability = 0.16 → Odds of default = {odds:.4f}\")\n"
   ]
  },
  {
   "cell_type": "markdown",
   "id": "6d47a5f7",
   "metadata": {},
   "source": [
    "# Question 14"
   ]
  },
  {
   "cell_type": "code",
   "execution_count": 18,
   "id": "2f2ece1b",
   "metadata": {},
   "outputs": [
    {
     "name": "stdout",
     "output_type": "stream",
     "text": [
      "Median mpg: 23.00\n",
      "    mpg  mpg01\n",
      "0  18.0      0\n",
      "1  15.0      0\n",
      "2  18.0      0\n",
      "3  16.0      0\n",
      "4  17.0      0\n",
      "mpg01\n",
      "0    206\n",
      "1    191\n",
      "dtype: int64\n"
     ]
    }
   ],
   "source": [
    "import pandas as pd\n",
    "Auto = pd.read_csv(\"Auto.csv\")\n",
    "Auto.head()\n",
    "\n",
    "median_mpg = Auto['mpg'].median()\n",
    "\n",
    "# Create the binary variable mpg01\n",
    "Auto['mpg01'] = Auto['mpg'].apply(lambda x: 1 if x > median_mpg else 0)\n",
    "print(f\"Median mpg: {median_mpg:.2f}\")\n",
    "print(Auto[['mpg', 'mpg01']].head())\n",
    "print(Auto.groupby('mpg01').size())"
   ]
  },
  {
   "cell_type": "code",
   "execution_count": null,
   "id": "a50426a5",
   "metadata": {},
   "outputs": [],
   "source": []
  }
 ],
 "metadata": {
  "kernelspec": {
   "display_name": "Python 3",
   "language": "python",
   "name": "python3"
  },
  "language_info": {
   "codemirror_mode": {
    "name": "ipython",
    "version": 3
   },
   "file_extension": ".py",
   "mimetype": "text/x-python",
   "name": "python",
   "nbconvert_exporter": "python",
   "pygments_lexer": "ipython3",
   "version": "3.12.0"
  }
 },
 "nbformat": 4,
 "nbformat_minor": 5
}
